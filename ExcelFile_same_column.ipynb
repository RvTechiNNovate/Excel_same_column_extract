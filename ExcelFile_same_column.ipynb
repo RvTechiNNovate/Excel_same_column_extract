{
 "cells": [
  {
   "cell_type": "code",
   "execution_count": null,
   "metadata": {},
   "outputs": [],
   "source": [
    "import pandas as pd\n",
    "path='E:/PyAndML/New_ML/dataset/excelfile/'\n",
    "df1=pd.read_excel(path+'cs.xlsx')\n",
    "df2=pd.read_excel(path+'it.xlsx')\n",
    "df3=pd.read_excel(path+'mechanical.xlsx')\n",
    "df4=pd.read_excel(path+'electrical.xlsx')\n",
    "df_check=df1.append(df2.append(df3.append(df4,ignore_index=True),ignore_index=True),ignore_index=True)\n",
    "df=df1.columns & df2.columns & df3.columns & df4.columns\n",
    "df=df_check[df]\n",
    "df.to_excel('combined.xlsx')\n",
    "df=df.iloc[:,[1,2]]\n",
    "df.to_excel(path+'cobined_except_Sno.xlsx')"
   ]
  }
 ],
 "metadata": {
  "kernelspec": {
   "display_name": "Python 3",
   "language": "python",
   "name": "python3"
  },
  "language_info": {
   "codemirror_mode": {
    "name": "ipython",
    "version": 3
   },
   "file_extension": ".py",
   "mimetype": "text/x-python",
   "name": "python",
   "nbconvert_exporter": "python",
   "pygments_lexer": "ipython3",
   "version": "3.7.4"
  }
 },
 "nbformat": 4,
 "nbformat_minor": 4
}
